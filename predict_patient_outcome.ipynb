{
 "cells": [
  {
   "cell_type": "code",
   "execution_count": 14,
   "metadata": {},
   "outputs": [],
   "source": [
    "%matplotlib inline\n",
    "import pandas as pd\n",
    "import matplotlib.pyplot as plt\n",
    "import seaborn as sns\n",
    "from sklearn.model_selection import train_test_split\n",
    "\n",
    "\n",
    "def read_from_csv(csvfile):\n",
    "    \"\"\" Read from csv file and convert all values in scientific format to integer\"\"\"\n",
    "    df = pd.read_csv(csvfile,header=None,names=['feature1','feature2','feature3','feature4','feature5','feature6','outcome'])\n",
    "    return df\n",
    "\n"
   ]
  },
  {
   "cell_type": "markdown",
   "metadata": {},
   "source": [
    "# Read the data and show statistics"
   ]
  },
  {
   "cell_type": "code",
   "execution_count": 10,
   "metadata": {},
   "outputs": [],
   "source": [
    "csvFile = 'ES_DS_test_section1.csv'\n",
    "df = read_from_csv(csvFile)\n",
    "df = df.astype({'outcome':int})"
   ]
  },
  {
   "cell_type": "code",
   "execution_count": 11,
   "metadata": {},
   "outputs": [
    {
     "data": {
      "text/html": [
       "<div>\n",
       "<style scoped>\n",
       "    .dataframe tbody tr th:only-of-type {\n",
       "        vertical-align: middle;\n",
       "    }\n",
       "\n",
       "    .dataframe tbody tr th {\n",
       "        vertical-align: top;\n",
       "    }\n",
       "\n",
       "    .dataframe thead th {\n",
       "        text-align: right;\n",
       "    }\n",
       "</style>\n",
       "<table border=\"1\" class=\"dataframe\">\n",
       "  <thead>\n",
       "    <tr style=\"text-align: right;\">\n",
       "      <th></th>\n",
       "      <th>feature1</th>\n",
       "      <th>feature2</th>\n",
       "      <th>feature3</th>\n",
       "      <th>feature4</th>\n",
       "      <th>feature5</th>\n",
       "      <th>feature6</th>\n",
       "      <th>outcome</th>\n",
       "    </tr>\n",
       "  </thead>\n",
       "  <tbody>\n",
       "    <tr>\n",
       "      <th>count</th>\n",
       "      <td>450.000000</td>\n",
       "      <td>450.000000</td>\n",
       "      <td>450.000000</td>\n",
       "      <td>450.000000</td>\n",
       "      <td>450.000000</td>\n",
       "      <td>450.000000</td>\n",
       "      <td>450.000000</td>\n",
       "    </tr>\n",
       "    <tr>\n",
       "      <th>mean</th>\n",
       "      <td>5.494889</td>\n",
       "      <td>-6.068999</td>\n",
       "      <td>6.044578</td>\n",
       "      <td>6.399889</td>\n",
       "      <td>0.007170</td>\n",
       "      <td>-0.004314</td>\n",
       "      <td>0.100000</td>\n",
       "    </tr>\n",
       "    <tr>\n",
       "      <th>std</th>\n",
       "      <td>0.285766</td>\n",
       "      <td>8.585543</td>\n",
       "      <td>0.313952</td>\n",
       "      <td>1.417792</td>\n",
       "      <td>0.097730</td>\n",
       "      <td>0.101296</td>\n",
       "      <td>0.300334</td>\n",
       "    </tr>\n",
       "    <tr>\n",
       "      <th>min</th>\n",
       "      <td>5.000000</td>\n",
       "      <td>-20.800000</td>\n",
       "      <td>5.500000</td>\n",
       "      <td>4.000000</td>\n",
       "      <td>-0.271000</td>\n",
       "      <td>-0.281000</td>\n",
       "      <td>0.000000</td>\n",
       "    </tr>\n",
       "    <tr>\n",
       "      <th>25%</th>\n",
       "      <td>5.240000</td>\n",
       "      <td>-13.400000</td>\n",
       "      <td>5.762500</td>\n",
       "      <td>5.162500</td>\n",
       "      <td>-0.061725</td>\n",
       "      <td>-0.078950</td>\n",
       "      <td>0.000000</td>\n",
       "    </tr>\n",
       "    <tr>\n",
       "      <th>50%</th>\n",
       "      <td>5.490000</td>\n",
       "      <td>-6.785000</td>\n",
       "      <td>6.040000</td>\n",
       "      <td>6.440000</td>\n",
       "      <td>0.008770</td>\n",
       "      <td>-0.002635</td>\n",
       "      <td>0.000000</td>\n",
       "    </tr>\n",
       "    <tr>\n",
       "      <th>75%</th>\n",
       "      <td>5.730000</td>\n",
       "      <td>1.247500</td>\n",
       "      <td>6.310000</td>\n",
       "      <td>7.510000</td>\n",
       "      <td>0.070575</td>\n",
       "      <td>0.069850</td>\n",
       "      <td>0.000000</td>\n",
       "    </tr>\n",
       "    <tr>\n",
       "      <th>max</th>\n",
       "      <td>6.000000</td>\n",
       "      <td>8.950000</td>\n",
       "      <td>6.600000</td>\n",
       "      <td>8.980000</td>\n",
       "      <td>0.289000</td>\n",
       "      <td>0.244000</td>\n",
       "      <td>1.000000</td>\n",
       "    </tr>\n",
       "  </tbody>\n",
       "</table>\n",
       "</div>"
      ],
      "text/plain": [
       "         feature1    feature2    feature3    feature4    feature5    feature6  \\\n",
       "count  450.000000  450.000000  450.000000  450.000000  450.000000  450.000000   \n",
       "mean     5.494889   -6.068999    6.044578    6.399889    0.007170   -0.004314   \n",
       "std      0.285766    8.585543    0.313952    1.417792    0.097730    0.101296   \n",
       "min      5.000000  -20.800000    5.500000    4.000000   -0.271000   -0.281000   \n",
       "25%      5.240000  -13.400000    5.762500    5.162500   -0.061725   -0.078950   \n",
       "50%      5.490000   -6.785000    6.040000    6.440000    0.008770   -0.002635   \n",
       "75%      5.730000    1.247500    6.310000    7.510000    0.070575    0.069850   \n",
       "max      6.000000    8.950000    6.600000    8.980000    0.289000    0.244000   \n",
       "\n",
       "          outcome  \n",
       "count  450.000000  \n",
       "mean     0.100000  \n",
       "std      0.300334  \n",
       "min      0.000000  \n",
       "25%      0.000000  \n",
       "50%      0.000000  \n",
       "75%      0.000000  \n",
       "max      1.000000  "
      ]
     },
     "execution_count": 11,
     "metadata": {},
     "output_type": "execute_result"
    }
   ],
   "source": [
    "df.describe()"
   ]
  },
  {
   "cell_type": "code",
   "execution_count": 12,
   "metadata": {},
   "outputs": [
    {
     "data": {
      "image/png": "[encoded data removed]",
      "text/plain": [
       "<matplotlib.figure.Figure at 0x29ab52d62b0>"
      ]
     },
     "metadata": {},
     "output_type": "display_data"
    }
   ],
   "source": [
    "# Check result skewdness\n",
    "sns.countplot(df['outcome'],label=\"Outcome\")\n",
    "plt.show()"
   ]
  },
  {
   "cell_type": "code",
   "execution_count": 13,
   "metadata": {},
   "outputs": [
    {
     "data": {
      "text/plain": [
       "array([[<matplotlib.axes._subplots.AxesSubplot object at 0x0000029AB4E809E8>,\n",
       "        <matplotlib.axes._subplots.AxesSubplot object at 0x0000029AB4D33320>,\n",
       "        <matplotlib.axes._subplots.AxesSubplot object at 0x0000029AB51ADE10>],\n",
       "       [<matplotlib.axes._subplots.AxesSubplot object at 0x0000029AB4BB6278>,\n",
       "        <matplotlib.axes._subplots.AxesSubplot object at 0x0000029AB4CB7860>,\n",
       "        <matplotlib.axes._subplots.AxesSubplot object at 0x0000029AB4CB77F0>],\n",
       "       [<matplotlib.axes._subplots.AxesSubplot object at 0x0000029AB4B9BBA8>,\n",
       "        <matplotlib.axes._subplots.AxesSubplot object at 0x0000029AB4D75390>,\n",
       "        <matplotlib.axes._subplots.AxesSubplot object at 0x0000029AB5187E10>]],\n",
       "      dtype=object)"
      ]
     },
     "execution_count": 13,
     "metadata": {},
     "output_type": "execute_result"
    },
    {
     "data": {
      "image/png": "[encoded data removed]",
      "text/plain": [
       "<matplotlib.figure.Figure at 0x29ab4e8b080>"
      ]
     },
     "metadata": {},
     "output_type": "display_data"
    }
   ],
   "source": [
    "df.hist(bins=10)"
   ]
  },
  {
   "cell_type": "code",
   "execution_count": null,
   "metadata": {},
   "outputs": [],
   "source": [
    "y = df['outcome']\n",
    "X = df.drop\n",
    "X_train, X_test, y_train, y_test = train_test_split(X, y, random_state=0)\n",
    "from sklearn.preprocessing import MinMaxScaler\n",
    "scaler = MinMaxScaler()\n",
    "X_train = scaler.fit_transform(X_train)\n",
    "X_test = scaler.transform(X_test)"
   ]
  },
  {
   "cell_type": "code",
   "execution_count": null,
   "metadata": {},
   "outputs": [],
   "source": []
  }
 ],
 "metadata": {
  "kernelspec": {
   "display_name": "Python 3",
   "language": "python",
   "name": "python3"
  },
  "language_info": {
   "codemirror_mode": {
    "name": "ipython",
    "version": 3
   },
   "file_extension": ".py",
   "mimetype": "text/x-python",
   "name": "python",
   "nbconvert_exporter": "python",
   "pygments_lexer": "ipython3",
   "version": "3.6.4"
  }
 },
 "nbformat": 4,
 "nbformat_minor": 2
}
